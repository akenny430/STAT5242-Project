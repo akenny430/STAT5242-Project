{
 "cells": [
  {
   "cell_type": "code",
   "execution_count": 19,
   "id": "ecological-mambo",
   "metadata": {},
   "outputs": [],
   "source": [
    "import numpy as np\n",
    "from scipy.linalg import sqrtm\n",
    "\n",
    "import torch\n",
    "import torch.nn as nn"
   ]
  },
  {
   "cell_type": "code",
   "execution_count": 114,
   "id": "adolescent-walnut",
   "metadata": {},
   "outputs": [],
   "source": [
    "class BaseModel(nn.Module):\n",
    "    def __init__(self) -> None:\n",
    "        super().__init__()\n",
    "\n",
    "    def save(self, path):\n",
    "        torch.save(self.state_dict(), path)\n",
    "\n",
    "    def load(self, path):\n",
    "        self.load_state_dict(torch.load(path))\n",
    "        \n",
    "class GraphConv(nn.Module):\n",
    "    def __init__(self, in_dim, out_dim, activation, adj=None) -> None:\n",
    "        super().__init__()\n",
    "        if adj is not None:\n",
    "            # constant adjacency convolutions\n",
    "            if adj[0,0] == 0:\n",
    "                self.a = torch.tensor(adj + np.eye(adj.shape[0]), requires_grad=False)\n",
    "            else:\n",
    "                self.a = torch.tensor(adj, requires_grad=False)\n",
    "            \n",
    "            self.d_inv = np.linalg.inv( torch.sum(self.a, axis=1) )\n",
    "            self.sqrt_d_inv = sqrtm(self.d_inv)\n",
    "\n",
    "        self.weight = torch.FloatTensor(in_dim, out_dim)\n",
    "        self.bias = torch.FloatTensor(out_dim)\n",
    "\n",
    "        if activation == 'relu':\n",
    "            self.activation = nn.ReLU()\n",
    "        elif activation == 'tanh':\n",
    "            self.activation = nn.Tanh()\n",
    "\n",
    "    def forward(self, x, adj=None):\n",
    "        if adj is None:\n",
    "            a = self.a\n",
    "            sqrt_d_inv = self.sqrt_d_inv\n",
    "        else:\n",
    "            if adj[0,0] == 0:\n",
    "                a = torch.tensor(adj + np.eye(adj.shape[0]), dtype=self.weight.dtype, requires_grad=False)\n",
    "            else:\n",
    "                a = torch.tensor(adj, dtype=self.weight.dtype, requires_grad=False)\n",
    "            \n",
    "            d_inv = np.linalg.inv( torch.diag(torch.sum(a, axis=1)) )\n",
    "            sqrt_d_inv = torch.tensor(sqrtm(d_inv), dtype=self.weight.dtype)\n",
    "    \n",
    "        x = torch.matmul(x, self.weight)\n",
    "        output = torch.mv(torch.mm(torch.mm(sqrt_d_inv, a), sqrt_d_inv), x)\n",
    "        return self.activation(output) + self.bias\n",
    "\n",
    "\n",
    "class GCN(BaseModel):\n",
    "    def __init__(self, n_features, n_nodes) -> None:\n",
    "        super().__init__()\n",
    "        self.gc1 = GraphConv(n_features, n_nodes, 'relu')\n",
    "\n",
    "    def forward(self, x, adj=None):\n",
    "        return self.gc1(x, adj)"
   ]
  },
  {
   "cell_type": "code",
   "execution_count": 115,
   "id": "therapeutic-childhood",
   "metadata": {},
   "outputs": [],
   "source": [
    "gcn = GCN(4, 2).float()\n",
    "x = np.array([4, 2, 1, 1], dtype=np.float32)\n",
    "adj = np.array([[1, 1], \n",
    "                [1, 1]])\n",
    "x = torch.tensor(x)\n",
    "# adj = torch.Tensor(adj)"
   ]
  },
  {
   "cell_type": "code",
   "execution_count": 116,
   "id": "established-minority",
   "metadata": {},
   "outputs": [
    {
     "name": "stdout",
     "output_type": "stream",
     "text": [
      "tensor([[0.7071, 0.0000],\n",
      "        [0.0000, 0.7071]]) tensor([[1., 1.],\n",
      "        [1., 1.]]) tensor([ 1.1170e+35, -6.3383e+29]) tensor([[ 0.0000e+00, -1.5846e+29],\n",
      "        [ 5.5851e+34,  2.5250e-29],\n",
      "        [ 8.4078e-45,  0.0000e+00],\n",
      "        [ 0.0000e+00,  0.0000e+00]])\n"
     ]
    },
    {
     "data": {
      "text/plain": [
       "tensor([5.5851e+34, 5.5851e+34])"
      ]
     },
     "execution_count": 116,
     "metadata": {},
     "output_type": "execute_result"
    }
   ],
   "source": [
    "gcn(x, adj)"
   ]
  },
  {
   "cell_type": "code",
   "execution_count": null,
   "id": "parental-obligation",
   "metadata": {},
   "outputs": [],
   "source": []
  },
  {
   "cell_type": "code",
   "execution_count": 117,
   "id": "missing-ground",
   "metadata": {},
   "outputs": [
    {
     "data": {
      "text/plain": [
       "662.7906976744187"
      ]
     },
     "execution_count": 117,
     "metadata": {},
     "output_type": "execute_result"
    }
   ],
   "source": [
    "57000 / 86"
   ]
  },
  {
   "cell_type": "code",
   "execution_count": 118,
   "id": "pediatric-evanescence",
   "metadata": {},
   "outputs": [
    {
     "data": {
      "text/plain": [
       "187.5"
      ]
     },
     "execution_count": 118,
     "metadata": {},
     "output_type": "execute_result"
    }
   ],
   "source": [
    "45000 / 240"
   ]
  },
  {
   "cell_type": "code",
   "execution_count": 119,
   "id": "center-canyon",
   "metadata": {},
   "outputs": [
    {
     "data": {
      "text/plain": [
       "1801.8018018018017"
      ]
     },
     "execution_count": 119,
     "metadata": {},
     "output_type": "execute_result"
    }
   ],
   "source": [
    "200000 / 111"
   ]
  },
  {
   "cell_type": "code",
   "execution_count": null,
   "id": "established-province",
   "metadata": {},
   "outputs": [],
   "source": []
  }
 ],
 "metadata": {
  "kernelspec": {
   "display_name": "Python 3",
   "language": "python",
   "name": "python3"
  },
  "language_info": {
   "codemirror_mode": {
    "name": "ipython",
    "version": 3
   },
   "file_extension": ".py",
   "mimetype": "text/x-python",
   "name": "python",
   "nbconvert_exporter": "python",
   "pygments_lexer": "ipython3",
   "version": "3.8.5"
  }
 },
 "nbformat": 4,
 "nbformat_minor": 5
}
